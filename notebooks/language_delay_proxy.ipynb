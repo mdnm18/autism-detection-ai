{
 "cells": [
  {
   "cell_type": "code",
   "execution_count": 1,
   "id": "71752b18",
   "metadata": {},
   "outputs": [
    {
     "ename": "ModuleNotFoundError",
     "evalue": "No module named 'mediapipe'",
     "output_type": "error",
     "traceback": [
      "\u001b[31m---------------------------------------------------------------------------\u001b[39m",
      "\u001b[31mModuleNotFoundError\u001b[39m                       Traceback (most recent call last)",
      "\u001b[36mCell\u001b[39m\u001b[36m \u001b[39m\u001b[32mIn[1]\u001b[39m\u001b[32m, line 3\u001b[39m\n\u001b[32m      1\u001b[39m \u001b[38;5;66;03m# Language Delay Proxy Detection (No Audio)\u001b[39;00m\n\u001b[32m      2\u001b[39m \u001b[38;5;28;01mimport\u001b[39;00m\u001b[38;5;250m \u001b[39m\u001b[34;01mcv2\u001b[39;00m\n\u001b[32m----> \u001b[39m\u001b[32m3\u001b[39m \u001b[38;5;28;01mimport\u001b[39;00m\u001b[38;5;250m \u001b[39m\u001b[34;01mmediapipe\u001b[39;00m\u001b[38;5;250m \u001b[39m\u001b[38;5;28;01mas\u001b[39;00m\u001b[38;5;250m \u001b[39m\u001b[34;01mmp\u001b[39;00m\n\u001b[32m      4\u001b[39m \u001b[38;5;28;01mimport\u001b[39;00m\u001b[38;5;250m \u001b[39m\u001b[34;01mtime\u001b[39;00m\n\u001b[32m      6\u001b[39m \u001b[38;5;66;03m# Initialize Pose Estimator\u001b[39;00m\n",
      "\u001b[31mModuleNotFoundError\u001b[39m: No module named 'mediapipe'"
     ]
    }
   ],
   "source": [
    "# Language Delay Proxy Detection (No Audio)\n",
    "import cv2\n",
    "import mediapipe as mp\n",
    "import time\n",
    "\n",
    "# Initialize Pose Estimator\n",
    "mp_pose = mp.solutions.pose\n",
    "pose = mp_pose.Pose()\n",
    "mp_drawing = mp.solutions.drawing_utils\n",
    "\n",
    "# State Tracking\n",
    "gesture_detected = False\n",
    "gesture_response_time = None\n",
    "start_time = None\n",
    "response_timeout = 4  # seconds\n",
    "\n",
    "cap = cv2.VideoCapture(0)\n",
    "print(\"Wave your hand in front of the camera to simulate gesture trigger.\")\n",
    "print(\"Press 'q' to quit.\")\n",
    "\n",
    "while cap.isOpened():\n",
    "    ret, frame = cap.read()\n",
    "    if not ret:\n",
    "        break\n",
    "\n",
    "    rgb_frame = cv2.cvtColor(frame, cv2.COLOR_BGR2RGB)\n",
    "    results = pose.process(rgb_frame)\n",
    "\n",
    "    frame_height, frame_width = frame.shape[:2]\n",
    "\n",
    "    if results.pose_landmarks:\n",
    "        mp_drawing.draw_landmarks(frame, results.pose_landmarks, mp_pose.POSE_CONNECTIONS)\n",
    "\n",
    "        # Get wrist and shoulder positions\n",
    "        left_wrist = results.pose_landmarks.landmark[mp_pose.PoseLandmark.LEFT_WRIST]\n",
    "        left_shoulder = results.pose_landmarks.landmark[mp_pose.PoseLandmark.LEFT_SHOULDER]\n",
    "\n",
    "        # If wrist is clearly above shoulder = waving gesture\n",
    "        if left_wrist.y < left_shoulder.y:\n",
    "            if not gesture_detected:\n",
    "                gesture_detected = True\n",
    "                start_time = time.time()\n",
    "                print(\"Gesture Detected – Waiting for response...\")\n",
    "\n",
    "        # Simulate toddler turning head (using nose X-coordinate)\n",
    "        if gesture_detected:\n",
    "            nose = results.pose_landmarks.landmark[mp_pose.PoseLandmark.NOSE]\n",
    "            nose_x = nose.x\n",
    "\n",
    "            if nose_x < 0.4 or nose_x > 0.6:  # assume child turns head\n",
    "                gesture_response_time = time.time() - start_time\n",
    "                print(f\"Response time: {gesture_response_time:.2f} sec\")\n",
    "                if gesture_response_time > response_timeout:\n",
    "                    cv2.putText(frame, \"⚠️ Possible Language Delay\", (20, 40), cv2.FONT_HERSHEY_SIMPLEX, 1, (0, 0, 255), 2)\n",
    "                else:\n",
    "                    cv2.putText(frame, \"✅ Normal Response\", (20, 40), cv2.FONT_HERSHEY_SIMPLEX, 1, (0, 255, 0), 2)\n",
    "                gesture_detected = False\n",
    "\n",
    "    # Display\n",
    "    cv2.imshow(\"Language Delay Proxy Detection\", frame)\n",
    "\n",
    "    if cv2.waitKey(1) & 0xFF == ord('q'):\n",
    "        break\n",
    "\n",
    "cap.release()\n",
    "cv2.destroyAllWindows()"
   ]
  }
 ],
 "metadata": {
  "kernelspec": {
   "display_name": "venv",
   "language": "python",
   "name": "python3"
  },
  "language_info": {
   "codemirror_mode": {
    "name": "ipython",
    "version": 3
   },
   "file_extension": ".py",
   "mimetype": "text/x-python",
   "name": "python",
   "nbconvert_exporter": "python",
   "pygments_lexer": "ipython3",
   "version": "3.13.3"
  }
 },
 "nbformat": 4,
 "nbformat_minor": 5
}
