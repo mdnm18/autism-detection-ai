{
 "cells": [
  {
   "cell_type": "code",
   "execution_count": 1,
   "id": "c90ec19a",
   "metadata": {},
   "outputs": [
    {
     "ename": "ModuleNotFoundError",
     "evalue": "No module named 'mediapipe'",
     "output_type": "error",
     "traceback": [
      "\u001b[31m---------------------------------------------------------------------------\u001b[39m",
      "\u001b[31mModuleNotFoundError\u001b[39m                       Traceback (most recent call last)",
      "\u001b[36mCell\u001b[39m\u001b[36m \u001b[39m\u001b[32mIn[1]\u001b[39m\u001b[32m, line 3\u001b[39m\n\u001b[32m      1\u001b[39m \u001b[38;5;66;03m# Social Reciprocity Detection Simulation\u001b[39;00m\n\u001b[32m      2\u001b[39m \u001b[38;5;28;01mimport\u001b[39;00m\u001b[38;5;250m \u001b[39m\u001b[34;01mcv2\u001b[39;00m\n\u001b[32m----> \u001b[39m\u001b[32m3\u001b[39m \u001b[38;5;28;01mimport\u001b[39;00m\u001b[38;5;250m \u001b[39m\u001b[34;01mmediapipe\u001b[39;00m\u001b[38;5;250m \u001b[39m\u001b[38;5;28;01mas\u001b[39;00m\u001b[38;5;250m \u001b[39m\u001b[34;01mmp\u001b[39;00m\n\u001b[32m      4\u001b[39m \u001b[38;5;28;01mimport\u001b[39;00m\u001b[38;5;250m \u001b[39m\u001b[34;01mtime\u001b[39;00m\n\u001b[32m      6\u001b[39m mp_pose = mp.solutions.pose\n",
      "\u001b[31mModuleNotFoundError\u001b[39m: No module named 'mediapipe'"
     ]
    }
   ],
   "source": [
    "# Social Reciprocity Detection Simulation\n",
    "import cv2\n",
    "import mediapipe as mp\n",
    "import time\n",
    "\n",
    "mp_pose = mp.solutions.pose\n",
    "pose = mp_pose.Pose()\n",
    "mp_drawing = mp.solutions.drawing_utils\n",
    "\n",
    "cue_given = False\n",
    "cue_start_time = None\n",
    "response_time = None\n",
    "joint_attention_attempted = False\n",
    "timeout_sec = 4\n",
    "\n",
    "cap = cv2.VideoCapture(0)\n",
    "print(\"Simulate a 'name-call' using a wave gesture.\")\n",
    "print(\"Watch if the subject turns head or points.\")\n",
    "print(\"Press 'q' to quit.\")\n",
    "\n",
    "while cap.isOpened():\n",
    "    ret, frame = cap.read()\n",
    "    if not ret:\n",
    "        break\n",
    "\n",
    "    rgb = cv2.cvtColor(frame, cv2.COLOR_BGR2RGB)\n",
    "    results = pose.process(rgb)\n",
    "\n",
    "    if results.pose_landmarks:\n",
    "        mp_drawing.draw_landmarks(frame, results.pose_landmarks, mp_pose.POSE_CONNECTIONS)\n",
    "\n",
    "        # Get landmarks\n",
    "        nose = results.pose_landmarks.landmark[mp_pose.PoseLandmark.NOSE]\n",
    "        left_wrist = results.pose_landmarks.landmark[mp_pose.PoseLandmark.LEFT_WRIST]\n",
    "        left_shoulder = results.pose_landmarks.landmark[mp_pose.PoseLandmark.LEFT_SHOULDER]\n",
    "\n",
    "        # Simulated wave cue (wrist above shoulder)\n",
    "        if left_wrist.y < left_shoulder.y and not cue_given:\n",
    "            cue_given = True\n",
    "            cue_start_time = time.time()\n",
    "            print(\"Gesture cue given - checking for social response...\")\n",
    "\n",
    "        # Detect head turn (nose x deviation)\n",
    "        if cue_given:\n",
    "            if nose.x < 0.4 or nose.x > 0.6:\n",
    "                response_time = time.time() - cue_start_time\n",
    "                cue_given = False\n",
    "                if response_time < timeout_sec:\n",
    "                    cv2.putText(frame, \"✅ Social Response Detected\", (20, 40), cv2.FONT_HERSHEY_SIMPLEX, 1, (0, 255, 0), 2)\n",
    "                else:\n",
    "                    cv2.putText(frame, \"⚠️ Delayed Social Response\", (20, 40), cv2.FONT_HERSHEY_SIMPLEX, 1, (0, 0, 255), 2)\n",
    "\n",
    "        # Check if hand is pointing (arm extended horizontally)\n",
    "        left_elbow = results.pose_landmarks.landmark[mp_pose.PoseLandmark.LEFT_ELBOW]\n",
    "        if abs(left_wrist.y - left_elbow.y) < 0.1 and abs(left_elbow.y - left_shoulder.y) < 0.1:\n",
    "            joint_attention_attempted = True\n",
    "            cv2.putText(frame, \"🫵 Joint Attention Attempt\", (20, 80), cv2.FONT_HERSHEY_SIMPLEX, 1, (255, 215, 0), 2)\n",
    "\n",
    "    # Display frame\n",
    "    cv2.imshow(\"Social Reciprocity Detection\", frame)\n",
    "\n",
    "    if cv2.waitKey(1) & 0xFF == ord('q'):\n",
    "        break\n",
    "\n",
    "cap.release()\n",
    "cv2.destroyAllWindows()"
   ]
  }
 ],
 "metadata": {
  "kernelspec": {
   "display_name": "venv",
   "language": "python",
   "name": "python3"
  },
  "language_info": {
   "codemirror_mode": {
    "name": "ipython",
    "version": 3
   },
   "file_extension": ".py",
   "mimetype": "text/x-python",
   "name": "python",
   "nbconvert_exporter": "python",
   "pygments_lexer": "ipython3",
   "version": "3.13.3"
  }
 },
 "nbformat": 4,
 "nbformat_minor": 5
}
